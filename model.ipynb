{
 "cells": [
  {
   "cell_type": "code",
   "execution_count": 1,
   "metadata": {},
   "outputs": [],
   "source": [
    "from transformers import CLIPModel,BertConfig\n",
    "from transformers.models.bert.modeling_bert import BertLayer\n",
    "import torch.nn as nn\n",
    "import torch\n",
    "import torch.nn.functional as F\n",
    "import copy"
   ]
  },
  {
   "cell_type": "code",
   "execution_count": 5,
   "metadata": {},
   "outputs": [],
   "source": [
    "from torchinfo import summary"
   ]
  },
  {
   "cell_type": "code",
   "execution_count": 7,
   "metadata": {},
   "outputs": [],
   "source": [
    "class MultimodalEncoder(nn.Module):\n",
    "    def __init__(self, config, layer_number):\n",
    "        super(MultimodalEncoder, self).__init__()\n",
    "        layer = BertLayer(config)\n",
    "        self.layer = nn.ModuleList([copy.deepcopy(layer) for _ in range(layer_number)])\n",
    "\n",
    "    def forward(self, hidden_states, attention_mask, output_all_encoded_layers=True):\n",
    "        all_encoder_layers = []\n",
    "        all_encoder_attentions = []\n",
    "        for layer_module in self.layer:\n",
    "            hidden_states, attention = layer_module(hidden_states, attention_mask, output_attentions=True)\n",
    "            all_encoder_attentions.append(attention)\n",
    "            if output_all_encoded_layers:\n",
    "                all_encoder_layers.append(hidden_states)\n",
    "        if not output_all_encoded_layers:\n",
    "            all_encoder_layers.append(hidden_states)\n",
    "        return all_encoder_layers, all_encoder_attentions\n",
    "\n",
    "\n",
    "class MV_CLIP(nn.Module):\n",
    "    def __init__(self, args):\n",
    "        super(MV_CLIP, self).__init__()\n",
    "        self.model = CLIPModel.from_pretrained(\"openai/clip-vit-base-patch32\")\n",
    "        self.config = BertConfig.from_pretrained(\"bert-base-uncased\")\n",
    "        self.config.hidden_size = 512\n",
    "        self.config.num_attention_heads = 8\n",
    "        self.trans = MultimodalEncoder(self.config, layer_number=args.layers)\n",
    "        if args.simple_linear:\n",
    "            self.text_linear =  nn.Linear(args.text_size, args.text_size)\n",
    "            self.image_linear =  nn.Linear(args.image_size, args.image_size)\n",
    "        else:\n",
    "            self.text_linear =  nn.Sequential(\n",
    "                nn.Linear(args.text_size, args.text_size),\n",
    "                nn.Dropout(args.dropout_rate),\n",
    "                nn.GELU()\n",
    "            )\n",
    "            self.image_linear =  nn.Sequential(\n",
    "                nn.Linear(args.image_size, args.image_size),\n",
    "                nn.Dropout(args.dropout_rate),\n",
    "                nn.GELU()\n",
    "            )\n",
    "\n",
    "        self.classifier_fuse = nn.Linear(args.text_size , args.label_number)\n",
    "        self.classifier_text = nn.Linear(args.text_size, args.label_number)\n",
    "        self.classifier_image = nn.Linear(args.image_size, args.label_number)\n",
    "\n",
    "        self.loss_fct = nn.CrossEntropyLoss()\n",
    "        self.att = nn.Linear(args.text_size, 1, bias=False)\n",
    "\n",
    "    def forward(self, inputs, labels):\n",
    "        output = self.model(**inputs,output_attentions=True)\n",
    "        text_features = output['text_model_output']['last_hidden_state']\n",
    "        image_features = output['vision_model_output']['last_hidden_state']\n",
    "        text_feature = output['text_model_output']['pooler_output']\n",
    "        image_feature = output['vision_model_output']['pooler_output']\n",
    "        text_feature = self.text_linear(text_feature)\n",
    "        image_feature = self.image_linear(image_feature)\n",
    "\n",
    "        text_embeds = self.model.text_projection(text_features)\n",
    "        image_embeds = self.model.visual_projection(image_features)\n",
    "        input_embeds = torch.cat((image_embeds, text_embeds), dim=1)\n",
    "        attention_mask = torch.cat((torch.ones(text_features.shape[0], 50).to(text_features.device), inputs['attention_mask']), dim=-1)\n",
    "        extended_attention_mask = attention_mask.unsqueeze(1).unsqueeze(2)\n",
    "        extended_attention_mask = extended_attention_mask.to(dtype=next(self.parameters()).dtype)\n",
    "        extended_attention_mask = (1.0 - extended_attention_mask) * -10000.0\n",
    "        fuse_hiddens, all_attentions = self.trans(input_embeds, extended_attention_mask, output_all_encoded_layers=False)\n",
    "        fuse_hiddens = fuse_hiddens[-1]\n",
    "        new_text_features = fuse_hiddens[:, 50:, :]\n",
    "        new_text_feature = new_text_features[\n",
    "            torch.arange(new_text_features.shape[0], device=inputs['input_ids'].device), inputs['input_ids'].to(torch.int).argmax(dim=-1)\n",
    "        ]\n",
    "\n",
    "        new_image_feature = fuse_hiddens[:, 0, :].squeeze(1)\n",
    "\n",
    "        text_weight = self.att(new_text_feature)\n",
    "        image_weight = self.att(new_image_feature)    \n",
    "        att = nn.functional.softmax(torch.stack((text_weight, image_weight), dim=-1),dim=-1)\n",
    "        tw, iw = att.split([1,1], dim=-1)\n",
    "        fuse_feature = tw.squeeze(1) * new_text_feature + iw.squeeze(1) * new_image_feature\n",
    "\n",
    "        logits_fuse = self.classifier_fuse(fuse_feature)\n",
    "        logits_text = self.classifier_text(text_feature)\n",
    "        logits_image = self.classifier_image(image_feature)\n",
    "   \n",
    "        fuse_score = nn.functional.softmax(logits_fuse, dim=-1)\n",
    "        text_score = nn.functional.softmax(logits_text, dim=-1)\n",
    "        image_score = nn.functional.softmax(logits_image, dim=-1)\n",
    "\n",
    "        score = fuse_score + text_score + image_score\n",
    "\n",
    "        outputs = (score,)\n",
    "        if labels is not None:\n",
    "            loss_fuse = self.loss_fct(logits_fuse, labels)\n",
    "            loss_text = self.loss_fct(logits_text, labels)\n",
    "            loss_image = self.loss_fct(logits_image, labels)\n",
    "            loss = loss_fuse + loss_text + loss_image\n",
    "\n",
    "            outputs = (loss,) + outputs\n",
    "        return outputs"
   ]
  },
  {
   "cell_type": "code",
   "execution_count": 9,
   "metadata": {},
   "outputs": [
    {
     "ename": "TypeError",
     "evalue": "MV_CLIP.__init__() missing 1 required positional argument: 'args'",
     "output_type": "error",
     "traceback": [
      "\u001b[1;31m---------------------------------------------------------------------------\u001b[0m",
      "\u001b[1;31mTypeError\u001b[0m                                 Traceback (most recent call last)",
      "Cell \u001b[1;32mIn[9], line 1\u001b[0m\n\u001b[1;32m----> 1\u001b[0m mv_clip \u001b[38;5;241m=\u001b[39m \u001b[43mMV_CLIP\u001b[49m\u001b[43m(\u001b[49m\u001b[43m)\u001b[49m\n",
      "\u001b[1;31mTypeError\u001b[0m: MV_CLIP.__init__() missing 1 required positional argument: 'args'"
     ]
    }
   ],
   "source": [
    "mv_clip = MV_CLIP()"
   ]
  },
  {
   "cell_type": "code",
   "execution_count": null,
   "metadata": {},
   "outputs": [],
   "source": [
    "summary(mv_clip, input_data=(inputs, labels))"
   ]
  },
  {
   "cell_type": "code",
   "execution_count": null,
   "metadata": {},
   "outputs": [],
   "source": []
  }
 ],
 "metadata": {
  "kernelspec": {
   "display_name": "my_project_env",
   "language": "python",
   "name": "python3"
  },
  "language_info": {
   "codemirror_mode": {
    "name": "ipython",
    "version": 3
   },
   "file_extension": ".py",
   "mimetype": "text/x-python",
   "name": "python",
   "nbconvert_exporter": "python",
   "pygments_lexer": "ipython3",
   "version": "3.11.9"
  }
 },
 "nbformat": 4,
 "nbformat_minor": 2
}
